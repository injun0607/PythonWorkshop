{
 "cells": [
  {
   "cell_type": "code",
   "execution_count": 1,
   "id": "8035fca6",
   "metadata": {},
   "outputs": [],
   "source": [
    "###File Write\n",
    "data = \"hello\"\n",
    "with open(\"tesxt.txt\",\"w\") as fp:\n",
    "    fp.write(data)\n",
    "    "
   ]
  },
  {
   "cell_type": "code",
   "execution_count": 3,
   "id": "5412717a",
   "metadata": {},
   "outputs": [
    {
     "name": "stdout",
     "output_type": "stream",
     "text": [
      "파이썬\n",
      "hello\n"
     ]
    }
   ],
   "source": [
    "###File Read\n",
    "with open(\"tesxt.txt\",\"r\") as fp:\n",
    "    print(\"파이썬\")\n",
    "    print(fp.read())\n",
    "    "
   ]
  },
  {
   "cell_type": "code",
   "execution_count": 4,
   "id": "8902e902",
   "metadata": {},
   "outputs": [
    {
     "name": "stdout",
     "output_type": "stream",
     "text": [
      " C 드라이브의 볼륨에는 이름이 없습니다.\n",
      " 볼륨 일련 번호: D0EB-A8BF\n",
      "\n",
      " C:\\Users\\Yeo-injun\\python_works\\PythonWorkshop 디렉터리\n",
      "\n",
      "2021-09-17  오후 06:07    <DIR>          .\n",
      "2021-09-17  오후 06:07    <DIR>          ..\n",
      "2021-09-17  오후 05:49             1,928 .gitignore\n",
      "2021-09-17  오후 06:05    <DIR>          .ipynb_checkpoints\n",
      "2021-09-17  오후 06:07               899 python_taste.ipynb\n",
      "2021-09-17  오후 05:49                51 README.md\n",
      "2021-09-17  오후 06:06                 5 tesxt.txt\n",
      "2021-09-17  오후 06:05               576 Untitled.ipynb\n",
      "               5개 파일               3,459 바이트\n",
      "               3개 디렉터리  322,211,520,512 바이트 남음\n"
     ]
    }
   ],
   "source": [
    "!dir"
   ]
  },
  {
   "cell_type": "code",
   "execution_count": 5,
   "id": "2efe2fe1",
   "metadata": {},
   "outputs": [
    {
     "name": "stdout",
     "output_type": "stream",
     "text": [
      "hello\n"
     ]
    }
   ],
   "source": [
    "!type tesxt.txt\n"
   ]
  },
  {
   "cell_type": "code",
   "execution_count": null,
   "id": "a83f4ced",
   "metadata": {},
   "outputs": [],
   "source": []
  }
 ],
 "metadata": {
  "kernelspec": {
   "display_name": "Python 3",
   "language": "python",
   "name": "python3"
  },
  "language_info": {
   "codemirror_mode": {
    "name": "ipython",
    "version": 3
   },
   "file_extension": ".py",
   "mimetype": "text/x-python",
   "name": "python",
   "nbconvert_exporter": "python",
   "pygments_lexer": "ipython3",
   "version": "3.8.8"
  }
 },
 "nbformat": 4,
 "nbformat_minor": 5
}
